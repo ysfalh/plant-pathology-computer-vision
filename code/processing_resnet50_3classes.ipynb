{
  "nbformat": 4,
  "nbformat_minor": 0,
  "metadata": {
    "colab": {
      "name": "processing_resnet50_3classes.ipynb",
      "provenance": [],
      "collapsed_sections": [],
      "toc_visible": true
    },
    "kernelspec": {
      "name": "python3",
      "display_name": "Python 3"
    },
    "accelerator": "GPU"
  },
  "cells": [
    {
      "cell_type": "markdown",
      "metadata": {
        "id": "i0liJwrhGDvq",
        "colab_type": "text"
      },
      "source": [
        "<div style=\"text-align: center; font-weight: bold; font-size: 300%\">Projet INF473-V</div>                                                        <br /> \n",
        "<div style=\"text-align: center; font-weight: bold; font-size: 180%\">Processing - ResNet-50 - 3 classes </div>                                                        <br />  \n",
        "<div style=\"text-align: center; font-size: 150%\">École Polytechnique, juin 2020</div><br />  \n",
        "<div style=\"text-align: center; font-size: 120%\">Youssef Allouah et Paul Calot</div>"
      ]
    },
    {
      "cell_type": "code",
      "metadata": {
        "id": "dsQlE62SNzBg",
        "colab_type": "code",
        "colab": {}
      },
      "source": [
        "# libraries\n",
        "import pandas as pd # to read csv files\n",
        "import numpy as np\n",
        "import imageio # to read imported img\n",
        "import torch\n",
        "from torchvision import datasets, transforms # to transforms to tensor etc. and create our own datasets\n",
        "import matplotlib.pyplot as plt # to show img\n",
        "import tqdm\n",
        "from google.colab import files\n",
        "import torch.nn as nn"
      ],
      "execution_count": 0,
      "outputs": []
    },
    {
      "cell_type": "code",
      "metadata": {
        "id": "CpYMhCwa9xHY",
        "colab_type": "code",
        "outputId": "d6d91ca6-8a60-4276-e853-7499ea1e25bc",
        "colab": {
          "base_uri": "https://localhost:8080/",
          "height": 34
        }
      },
      "source": [
        "from google.colab import drive\n",
        "drive.mount('/content/gdrive', force_remount=True)\n",
        "root_dir = \"/content/gdrive/My Drive/projet - MODAL/datasets/\"\n"
      ],
      "execution_count": 2,
      "outputs": [
        {
          "output_type": "stream",
          "text": [
            "Mounted at /content/gdrive\n"
          ],
          "name": "stdout"
        }
      ]
    },
    {
      "cell_type": "markdown",
      "metadata": {
        "id": "Hqk7ikzTxDTI",
        "colab_type": "text"
      },
      "source": [
        "https://drive.google.com/drive/folders/1xTUMQhu-JbkTSriWoLJxmJXrj5jnrKym?usp=sharing "
      ]
    },
    {
      "cell_type": "code",
      "metadata": {
        "id": "9CKzJlNaIsX7",
        "colab_type": "code",
        "colab": {}
      },
      "source": [
        "# first training - 3 classes\n",
        "training_set_3classes = torch.load(root_dir + \"training_set_3classes\")\n",
        "testing_set_3classes = torch.load(root_dir + \"testing_set_3classes\")\n",
        "\n",
        "\n",
        "# second training - 4 classes -> to load later if not enough memory\n",
        "training_set = torch.load(root_dir + \"dataset_8\")\n",
        "testing_set = torch.load(root_dir + \"testing_dataset_1400\")"
      ],
      "execution_count": 0,
      "outputs": []
    },
    {
      "cell_type": "code",
      "metadata": {
        "colab_type": "code",
        "id": "Hq3-DECNaoQt",
        "colab": {}
      },
      "source": [
        "# print proportion\n",
        "train_size = len(training_set_3classes)\n",
        "test_size = len(testing_set_3classes)\n",
        "per_train = [0,0,0]\n",
        "per_test = [0,0,0]\n",
        "for k in range(train_size):\n",
        "  per_train[int(training_set_3classes[k][1].item())]+=1\n",
        "\n",
        "for k in range(test_size):\n",
        "  per_test[int(testing_set_3classes[k][1].item())]+=1\n",
        "\n",
        "for k in range(3):\n",
        "  per_train[k] = round(per_train[k]/train_size,4)\n",
        "  per_test[k] = round(per_test[k]/test_size,4)"
      ],
      "execution_count": 0,
      "outputs": []
    },
    {
      "cell_type": "code",
      "metadata": {
        "colab_type": "code",
        "outputId": "e2550cde-cf75-4bc9-9908-01d55e40242b",
        "id": "ZFK5ZOn9aoRR",
        "colab": {
          "base_uri": "https://localhost:8080/",
          "height": 576
        }
      },
      "source": [
        "\n",
        "\n",
        "df = pd.DataFrame({'classes':['healthy', 'rust','scab'], 'quantity':per_train})\n",
        "ax1 = df.plot.bar(x='classes', y='quantity', color = ['g', 'brown', 'k'], rot = 0)\n",
        "fig1 = ax1.get_figure()\n",
        "for p in ax1.patches:\n",
        "    ax1.annotate(str(p.get_height()), (p.get_x()*1.005, p.get_height() * 1.005))\n",
        "\n",
        "df = pd.DataFrame({'classes':['healthy', 'rust','scab'], 'quantity':per_test})\n",
        "ax2 = df.plot.bar(x='classes', y='quantity', color = ['g', 'brown', 'k'], rot = 0)\n",
        "fig2 = ax2.get_figure()\n",
        "\n",
        "for p in ax2.patches:\n",
        "    ax2.annotate(str(p.get_height()), (p.get_x() * 1.005, p.get_height() * 1.006))\n",
        "\n",
        "fig1.savefig('train_repartition.png', dpi=400)\n",
        "fig2.savefig('test_repartition.png', dpi=400)\n",
        "\n",
        "print(\"Size of the training dataset :\" + str(train_size))\n",
        "print(\"Size of the testing dataset :\" + str(test_size))"
      ],
      "execution_count": 5,
      "outputs": [
        {
          "output_type": "stream",
          "text": [
            "Size of the training dataset :3996\n",
            "Size of the testing dataset :398\n"
          ],
          "name": "stdout"
        },
        {
          "output_type": "display_data",
          "data": {
            "image/png": "[encoded data removed]",
            "text/plain": [
              "<Figure size 432x288 with 1 Axes>"
            ]
          },
          "metadata": {
            "tags": [],
            "needs_background": "light"
          }
        },
        {
          "output_type": "display_data",
          "data": {
            "image/png": "[encoded data removed]",
            "text/plain": [
              "<Figure size 432x288 with 1 Axes>"
            ]
          },
          "metadata": {
            "tags": [],
            "needs_background": "light"
          }
        }
      ]
    },
    {
      "cell_type": "code",
      "metadata": {
        "id": "RJbIm_PCQGZ1",
        "colab_type": "code",
        "colab": {}
      },
      "source": [
        "# print proportion\n",
        "train_size = len(training_set)\n",
        "test_size = len(testing_set)\n",
        "per_train = [0,0,0,0]\n",
        "per_test = [0,0,0,0]\n",
        "for k in range(train_size):\n",
        "  per_train[int(training_set[k][1].item())]+=1\n",
        "\n",
        "for k in range(test_size):\n",
        "  per_test[int(testing_set[k][1].item())]+=1\n",
        "\n",
        "for k in range(4):\n",
        "  per_train[k] = round(per_train[k]/train_size,4)\n",
        "  per_test[k] = round(per_test[k]/test_size,4)"
      ],
      "execution_count": 0,
      "outputs": []
    },
    {
      "cell_type": "code",
      "metadata": {
        "id": "whQ0KXGxQq7J",
        "colab_type": "code",
        "outputId": "f1948b3c-8225-456c-f7d4-554ded27b665",
        "colab": {
          "base_uri": "https://localhost:8080/",
          "height": 576
        }
      },
      "source": [
        "\n",
        "\n",
        "df = pd.DataFrame({'classes':['healthy', 'multiple', 'rust','scab'], 'quantity':per_train})\n",
        "ax1 = df.plot.bar(x='classes', y='quantity', color = ['g', 'r', 'brown', 'k'], rot = 0)\n",
        "fig1 = ax1.get_figure()\n",
        "for p in ax1.patches:\n",
        "    ax1.annotate(str(p.get_height()), (p.get_x()*1.005, p.get_height() * 1.005))\n",
        "\n",
        "df = pd.DataFrame({'classes':['healthy', 'multiple', 'rust','scab'], 'quantity':per_test})\n",
        "ax2 = df.plot.bar(x='classes', y='quantity', color = ['g', 'r', 'brown', 'k'], rot = 0)\n",
        "fig2 = ax2.get_figure()\n",
        "\n",
        "for p in ax2.patches:\n",
        "    ax2.annotate(str(p.get_height()), (p.get_x() * 1.005, p.get_height() * 1.006))\n",
        "\n",
        "fig1.savefig('train_repartition.png', dpi=400)\n",
        "fig2.savefig('test_repartition.png', dpi=400)\n",
        "\n",
        "\n",
        "\n",
        "print(\"Size of the training dataset :\" + str(train_size))\n",
        "print(\"Size of the testing dataset :\" + str(test_size))"
      ],
      "execution_count": 7,
      "outputs": [
        {
          "output_type": "stream",
          "text": [
            "Size of the training dataset :5804\n",
            "Size of the testing dataset :421\n"
          ],
          "name": "stdout"
        },
        {
          "output_type": "display_data",
          "data": {
            "image/png": "[encoded data removed]",
            "text/plain": [
              "<Figure size 432x288 with 1 Axes>"
            ]
          },
          "metadata": {
            "tags": [],
            "needs_background": "light"
          }
        },
        {
          "output_type": "display_data",
          "data": {
            "image/png": "[encoded data removed]",
            "text/plain": [
              "<Figure size 432x288 with 1 Axes>"
            ]
          },
          "metadata": {
            "tags": [],
            "needs_background": "light"
          }
        }
      ]
    },
    {
      "cell_type": "markdown",
      "metadata": {
        "id": "8pfvZ31rDgyk",
        "colab_type": "text"
      },
      "source": [
        "# Processing\n"
      ]
    },
    {
      "cell_type": "markdown",
      "metadata": {
        "colab_type": "text",
        "id": "NKMdZ26ua4I0"
      },
      "source": [
        "## Importing useful functions from TDs"
      ]
    },
    {
      "cell_type": "code",
      "metadata": {
        "id": "SQD3K6qrME79",
        "colab_type": "code",
        "colab": {}
      },
      "source": [
        "import torch\n",
        "import torchvision\n",
        "import torchvision.transforms as transforms\n",
        "import numpy as np\n",
        "import matplotlib.pyplot as plt\n",
        "\n",
        "import torch.nn as nn\n",
        "import torch.nn.functional as F\n",
        "from torch.utils.data.sampler import SubsetRandomSampler\n",
        "\n",
        "torchvision.transforms.functional.resize\n",
        "transform = transforms.Compose(\n",
        "    [\n",
        "     transforms.Resize(size=(224, 224)),\n",
        "     transforms.ToTensor(),\n",
        "     transforms.Normalize((0.5,), (0.5,)),\n",
        "])\n",
        "\n",
        "\n",
        "\n",
        "def imshow(img):\n",
        "    img = img / 2 + 0.5     # unnormalize\n",
        "    npimg = img.numpy()\n",
        "    plt.imshow(np.transpose(npimg, (1, 2, 0)))\n",
        "    plt.show()\n",
        "\n",
        "\n",
        "\n",
        "\n",
        "import torch.nn as nn\n",
        "criterion = nn.CrossEntropyLoss()\n",
        "\n",
        "def accuracy(net, test_loader, cuda=True):\n",
        "  net.eval()\n",
        "  correct = 0\n",
        "  total = 0\n",
        "  loss = 0\n",
        "  with torch.no_grad():\n",
        "      for data in test_loader:\n",
        "          images, labels = data\n",
        "          if cuda:\n",
        "            images = images.type(torch.cuda.FloatTensor)\n",
        "            labels = labels.type(torch.cuda.LongTensor)\n",
        "          outputs = net(images)\n",
        "          loss+= criterion(outputs, labels).item()\n",
        "          _, predicted = torch.max(outputs.data, 1)\n",
        "          #print(outputs, labels)\n",
        "          total += labels.size(0)\n",
        "          correct += (predicted == labels).sum().item()\n",
        "          # if total > 100:\n",
        "            # break\n",
        "  net.train()\n",
        "  return (100.0 * correct / total, loss/total)\n",
        "  #return 100.0 * correct/tota\n",
        "\n",
        "def train(net, optimizer, train_loader, test_loader, loss,  n_epoch = 5,\n",
        "          train_acc_period = 100,\n",
        "          test_acc_period = 5,\n",
        "          cuda=True):\n",
        "  loss_train = []\n",
        "  loss_test = []\n",
        "  acc_test = []\n",
        "  acc_train = []\n",
        "  total = 0\n",
        "  min_loss = 0\n",
        "  best_state = net.state_dict()\n",
        "  for epoch in tqdm.tqdm(range(n_epoch)):  # loop over the dataset multiple times\n",
        "      running_loss = 0.0\n",
        "      running_acc = 0.0\n",
        "      for i, data in enumerate(train_loader, 0):\n",
        "          # get the inputs\n",
        "          inputs, labels = data\n",
        "          if cuda:\n",
        "            inputs = inputs.type(torch.cuda.FloatTensor)\n",
        "            labels = labels.type(torch.cuda.LongTensor)\n",
        "          # print(inputs.shape)\n",
        "          # zero the parameter gradients\n",
        "          optimizer.zero_grad()\n",
        "\n",
        "          # forward + backward + optimize\n",
        "          outputs = net(inputs)\n",
        "          \n",
        "          loss = criterion(outputs, labels)\n",
        "          loss.backward()\n",
        "          optimizer.step()\n",
        "          total += labels.size(0)\n",
        "          # print statistics\n",
        "          running_loss = 0.33*loss.item()/labels.size(0) + 0.66*running_loss\n",
        "          _, predicted = torch.max(outputs.data, 1)\n",
        "          correct = (predicted == labels).sum().item()/labels.size(0)\n",
        "          running_acc = 0.3*correct + 0.66*running_acc\n",
        "          if i % train_acc_period == train_acc_period-1:\n",
        "            print('[%d, %5d] loss: %.3f' %(epoch + 1, i + 1, running_loss))\n",
        "            print('[%d, %5d] acc: %.3f' %(epoch + 1, i + 1, running_acc))\n",
        "            running_loss = 0.0\n",
        "            total = 0\n",
        "            # break\n",
        "      if epoch % test_acc_period == test_acc_period-1:\n",
        "          cur_acc, cur_loss = accuracy(net, test_loader, cuda=cuda)\n",
        "          acc_test.append(cur_acc)\n",
        "          loss_test.append(cur_loss)\n",
        "          if(cur_loss < min_loss):\n",
        "            min_loss = cur_loss\n",
        "            best_state = net.state_dict()\n",
        "          print(\"Testing set :\")\n",
        "          print('[%d] loss: %.3f' %(epoch + 1, cur_loss))\n",
        "          print('[%d] acc: %.3f' %(epoch + 1, cur_acc))\n",
        "\n",
        "          # training set\n",
        "          print(\"Training set :\")\n",
        "          cur_acc, cur_loss = accuracy(net, train_loader, cuda=cuda)\n",
        "          print('[%d] loss: %.3f' %(epoch + 1, cur_loss))\n",
        "          print('[%d] acc: %.3f' %(epoch + 1, cur_acc))\n",
        "          print(\" \")\n",
        "          acc_train.append(cur_acc)\n",
        "          loss_train.append(cur_loss)\n",
        "      \n",
        "  print('Finished Training')\n",
        "  return (loss_train, acc_train,loss_test, acc_test, min_loss, best_state)"
      ],
      "execution_count": 0,
      "outputs": []
    },
    {
      "cell_type": "code",
      "metadata": {
        "id": "0JyRUUq8y3Q1",
        "colab_type": "code",
        "colab": {
          "base_uri": "https://localhost:8080/",
          "height": 72
        },
        "outputId": "5330e464-4613-42e8-91c5-d1d260ff404d"
      },
      "source": [
        "# confusion matrix\n",
        "import seaborn as sn\n",
        "import pandas as pd\n",
        "def confusion_matrix(model, dataloader, size = 4, name = \"Test\", cuda = True, index = ['healthy', 'multiple', 'rust', 'scab']): # here there are four classe\n",
        "  model.eval()\n",
        "  mat = np.zeros((size,size))\n",
        "  total = 0\n",
        "  corr = 0\n",
        "  qty = [0]*size\n",
        "  for images, labels in dataloader:\n",
        "    \n",
        "    if cuda:\n",
        "      images = images.type(torch.cuda.FloatTensor)\n",
        "      labels = labels.type(torch.cuda.LongTensor)\n",
        "    outputs = model(images)\n",
        "    _, predicted = torch.max(outputs.data, 1)\n",
        "    total += labels.size(0)\n",
        "    for k in range(labels.size(0)): # ground truth first (row) and then prediction (col)\n",
        "     # print(\"Here : \" +str(labels[k].item()) + \" ; \" + str(predicted[k].item()))\n",
        "      if(labels[k].item() == predicted[k].item()):\n",
        "        corr +=1\n",
        "      mat[labels[k].item(),predicted[k].item()]+=1\n",
        "      qty[labels[k].item()]+=1\n",
        "  for k in range(size):\n",
        "    mat[k] *= 1/qty[k]\n",
        "   # mat[k][size] = qty[k]/total # to have the total of images that the given class represented in the testing dataset\n",
        "  model.train()\n",
        "  dataframe = pd.DataFrame(mat, index=index)\n",
        "\n",
        "  ax = plt.axes()\n",
        "\n",
        "  svm = sn.heatmap(dataframe, annot=True, ax= ax)\n",
        "  ax.set_title('Accuracy ' + name + \" : \" + str(round(corr / total,3)))\n",
        "  figure = svm.get_figure()    \n",
        "  figure.savefig('conf_mat' + name +'.png', dpi=400)"
      ],
      "execution_count": 9,
      "outputs": [
        {
          "output_type": "stream",
          "text": [
            "/usr/local/lib/python3.6/dist-packages/statsmodels/tools/_testing.py:19: FutureWarning: pandas.util.testing is deprecated. Use the functions in the public API at pandas.testing instead.\n",
            "  import pandas.util.testing as tm\n"
          ],
          "name": "stderr"
        }
      ]
    },
    {
      "cell_type": "code",
      "metadata": {
        "id": "GCLYmLB2y7BN",
        "colab_type": "code",
        "colab": {}
      },
      "source": [
        "# plotting results\n",
        "def plot(name ,title, Y_test = None, Y_train = None, log_scale = True ):\n",
        "  if(Y_test != None):\n",
        "    n = len(Y_test)\n",
        "    X = np.linspace(1,n,n)\n",
        "    plt.plot(X,Y_test, label = \"test\", color = \"b\")\n",
        "    if(Y_train != None):\n",
        "      plt.plot(X,Y_train, label = \"train\", color = \"r\")\n",
        "  else :\n",
        "    if(Y_train != None):\n",
        "      n = len(Y_train)\n",
        "      X = np.linspace(1,n,n)\n",
        "      plt.plot(X,Y_train, label = \"train\", color = \"r\")\n",
        "    else :\n",
        "      return \"ERROR : both given lists are None object. \"\n",
        "  \n",
        "  plt.legend(loc='best')\n",
        "  plt.title(title)\n",
        "  if(log_scale):\n",
        "    plt.yscale(\"log\")\n",
        "  plt.savefig(name, dpi = 400)\n",
        "  plt.show()"
      ],
      "execution_count": 0,
      "outputs": []
    },
    {
      "cell_type": "markdown",
      "metadata": {
        "id": "Y4MTKejUa8kx",
        "colab_type": "text"
      },
      "source": [
        "## Importing model"
      ]
    },
    {
      "cell_type": "code",
      "metadata": {
        "id": "tssjw9Y3NBfF",
        "colab_type": "code",
        "colab": {}
      },
      "source": [
        "model=torchvision.models.resnet50(pretrained=True)\n"
      ],
      "execution_count": 0,
      "outputs": []
    },
    {
      "cell_type": "code",
      "metadata": {
        "id": "6hwEwJLBPmQo",
        "colab_type": "code",
        "colab": {}
      },
      "source": [
        "k = 0\n",
        "for child in model.children() :\n",
        "  k+=1\n",
        "number_of_blocs = k"
      ],
      "execution_count": 0,
      "outputs": []
    },
    {
      "cell_type": "code",
      "metadata": {
        "id": "afsBrE-KNY0n",
        "colab_type": "code",
        "colab": {}
      },
      "source": [
        "k = 0\n",
        "for param in model.parameters():\n",
        "  k+=1\n",
        "\n",
        "number_of_layers = k"
      ],
      "execution_count": 0,
      "outputs": []
    },
    {
      "cell_type": "code",
      "metadata": {
        "id": "CtgcEAD6PHVF",
        "colab_type": "code",
        "outputId": "11899b03-6bfb-4d5b-e3d8-6257a181448c",
        "colab": {
          "base_uri": "https://localhost:8080/",
          "height": 34
        }
      },
      "source": [
        "print(\" There are \" + str(number_of_blocs) + \" blocs in this net for a total of \" + str(number_of_layers) + \" layers.\")"
      ],
      "execution_count": 14,
      "outputs": [
        {
          "output_type": "stream",
          "text": [
            " There are 10 blocs in this net for a total of 161 layers.\n"
          ],
          "name": "stdout"
        }
      ]
    },
    {
      "cell_type": "code",
      "metadata": {
        "id": "gYL1LamrQXMU",
        "colab_type": "code",
        "colab": {
          "base_uri": "https://localhost:8080/",
          "height": 52
        },
        "outputId": "31e86c2d-7daf-47fa-f808-6272dbcd503b"
      },
      "source": [
        "# custom function to freeze wanted layer \n",
        "# here 10 means that the classifier is not freeze\n",
        "k = 0\n",
        "freeze_layers = 10\n",
        "for child in model.children():\n",
        "  k += 1\n",
        "  if(k < freeze_layers ):\n",
        "    for param in child.parameters():\n",
        "      param.requires_grad = False\n",
        "  else : \n",
        "    param.requires_grad = True\n",
        "\n",
        "    print(child)\n",
        "    print(\"was not freezed.\")"
      ],
      "execution_count": 15,
      "outputs": [
        {
          "output_type": "stream",
          "text": [
            "Linear(in_features=2048, out_features=1000, bias=True)\n",
            "was not freezed.\n"
          ],
          "name": "stdout"
        }
      ]
    },
    {
      "cell_type": "code",
      "metadata": {
        "id": "9EiyZk5mRzlM",
        "colab_type": "code",
        "colab": {}
      },
      "source": [
        "# 3 classes first\n",
        "lin = model.fc\n",
        "\n",
        "new_lin = nn.Sequential(\n",
        "    lin,\n",
        "    nn.ReLU(),\n",
        "    nn.Dropout(),\n",
        "    nn.Linear(lin.out_features, 3),\n",
        ")\n",
        "\n",
        "model.fc = new_lin"
      ],
      "execution_count": 0,
      "outputs": []
    },
    {
      "cell_type": "markdown",
      "metadata": {
        "id": "fpqYgIFgSSbb",
        "colab_type": "text"
      },
      "source": [
        "## Training - 1st phase"
      ]
    },
    {
      "cell_type": "code",
      "metadata": {
        "id": "BjFtBfaIzF0U",
        "colab_type": "code",
        "colab": {}
      },
      "source": [
        "model = model.cuda()"
      ],
      "execution_count": 0,
      "outputs": []
    },
    {
      "cell_type": "code",
      "metadata": {
        "colab_type": "code",
        "id": "ep2_lvJKwEUo",
        "outputId": "d32f12f5-b218-450a-8162-7b530274c490",
        "colab": {
          "base_uri": "https://localhost:8080/",
          "height": 746
        }
      },
      "source": [
        "lr = 5e-4\n",
        "\n",
        "criterion = nn.CrossEntropyLoss()\n",
        "opt = torch.optim.Adam(model.parameters(),lr=lr,betas=(0.9, 0.999),eps=1e-8)\n",
        "\n",
        "batch_size = 64\n",
        "epochs = 10\n",
        "testloader = torch.utils.data.DataLoader(testing_set_3classes, 1, shuffle=False)\n",
        "trainloader = torch.utils.data.DataLoader(training_set_3classes, batch_size, shuffle=True)\n",
        "loss_train_, acc_train_,loss_test_, acc_test_, min_loss, best_state= train(model, opt, trainloader, testloader, criterion, n_epoch = epochs, train_acc_period = 10000,\n",
        "          test_acc_period = 1)\n",
        "\n"
      ],
      "execution_count": 18,
      "outputs": [
        {
          "output_type": "stream",
          "text": [
            "\r  0%|          | 0/10 [00:00<?, ?it/s]"
          ],
          "name": "stderr"
        },
        {
          "output_type": "stream",
          "text": [
            "Accuracy of the network on the test images: 86 %\n",
            "[1] loss: 0.382\n",
            "[1] acc: 86.683\n"
          ],
          "name": "stdout"
        },
        {
          "output_type": "stream",
          "text": [
            "\r 10%|█         | 1/10 [00:17<02:38, 17.56s/it]"
          ],
          "name": "stderr"
        },
        {
          "output_type": "stream",
          "text": [
            "Accuracy of the network on the test images: 88 %\n",
            "Accuracy of the network on the test images: 85 %\n",
            "[2] loss: 0.345\n",
            "[2] acc: 85.427\n"
          ],
          "name": "stdout"
        },
        {
          "output_type": "stream",
          "text": [
            "\r 20%|██        | 2/10 [00:34<02:19, 17.50s/it]"
          ],
          "name": "stderr"
        },
        {
          "output_type": "stream",
          "text": [
            "Accuracy of the network on the test images: 90 %\n",
            "Accuracy of the network on the test images: 82 %\n",
            "[3] loss: 0.454\n",
            "[3] acc: 82.663\n"
          ],
          "name": "stdout"
        },
        {
          "output_type": "stream",
          "text": [
            "\r 30%|███       | 3/10 [00:52<02:02, 17.44s/it]"
          ],
          "name": "stderr"
        },
        {
          "output_type": "stream",
          "text": [
            "Accuracy of the network on the test images: 86 %\n",
            "Accuracy of the network on the test images: 87 %\n",
            "[4] loss: 0.313\n",
            "[4] acc: 87.437\n"
          ],
          "name": "stdout"
        },
        {
          "output_type": "stream",
          "text": [
            "\r 40%|████      | 4/10 [01:09<01:44, 17.40s/it]"
          ],
          "name": "stderr"
        },
        {
          "output_type": "stream",
          "text": [
            "Accuracy of the network on the test images: 91 %\n",
            "Accuracy of the network on the test images: 89 %\n",
            "[5] loss: 0.346\n",
            "[5] acc: 89.698\n"
          ],
          "name": "stdout"
        },
        {
          "output_type": "stream",
          "text": [
            "\r 50%|█████     | 5/10 [01:26<01:26, 17.38s/it]"
          ],
          "name": "stderr"
        },
        {
          "output_type": "stream",
          "text": [
            "Accuracy of the network on the test images: 90 %\n",
            "Accuracy of the network on the test images: 88 %\n",
            "[6] loss: 0.299\n",
            "[6] acc: 88.191\n"
          ],
          "name": "stdout"
        },
        {
          "output_type": "stream",
          "text": [
            "\r 60%|██████    | 6/10 [01:44<01:09, 17.37s/it]"
          ],
          "name": "stderr"
        },
        {
          "output_type": "stream",
          "text": [
            "Accuracy of the network on the test images: 93 %\n",
            "Accuracy of the network on the test images: 85 %\n",
            "[7] loss: 0.342\n",
            "[7] acc: 85.930\n"
          ],
          "name": "stdout"
        },
        {
          "output_type": "stream",
          "text": [
            "\r 70%|███████   | 7/10 [02:01<00:52, 17.37s/it]"
          ],
          "name": "stderr"
        },
        {
          "output_type": "stream",
          "text": [
            "Accuracy of the network on the test images: 91 %\n",
            "Accuracy of the network on the test images: 89 %\n",
            "[8] loss: 0.327\n",
            "[8] acc: 89.698\n"
          ],
          "name": "stdout"
        },
        {
          "output_type": "stream",
          "text": [
            "\r 80%|████████  | 8/10 [02:18<00:34, 17.36s/it]"
          ],
          "name": "stderr"
        },
        {
          "output_type": "stream",
          "text": [
            "Accuracy of the network on the test images: 93 %\n",
            "Accuracy of the network on the test images: 89 %\n",
            "[9] loss: 0.314\n",
            "[9] acc: 89.447\n"
          ],
          "name": "stdout"
        },
        {
          "output_type": "stream",
          "text": [
            "\r 90%|█████████ | 9/10 [02:36<00:17, 17.36s/it]"
          ],
          "name": "stderr"
        },
        {
          "output_type": "stream",
          "text": [
            "Accuracy of the network on the test images: 94 %\n",
            "Accuracy of the network on the test images: 87 %\n",
            "[10] loss: 0.314\n",
            "[10] acc: 87.688\n"
          ],
          "name": "stdout"
        },
        {
          "output_type": "stream",
          "text": [
            "100%|██████████| 10/10 [02:53<00:00, 17.36s/it]"
          ],
          "name": "stderr"
        },
        {
          "output_type": "stream",
          "text": [
            "Accuracy of the network on the test images: 95 %\n",
            "Finished Training\n"
          ],
          "name": "stdout"
        },
        {
          "output_type": "stream",
          "text": [
            "\n"
          ],
          "name": "stderr"
        }
      ]
    },
    {
      "cell_type": "code",
      "metadata": {
        "id": "a5yeH5roiR5H",
        "colab_type": "code",
        "outputId": "f9c32570-4a7d-45bd-a677-b9a45f4b21e3",
        "colab": {
          "base_uri": "https://localhost:8080/",
          "height": 281
        }
      },
      "source": [
        "confusion_matrix(model, trainloader, size=3, name  = \"Train3classes\", index = ['healthy', 'rust', 'scab'])"
      ],
      "execution_count": 19,
      "outputs": [
        {
          "output_type": "display_data",
          "data": {
            "image/png": "[encoded data removed]",
            "text/plain": [
              "<Figure size 432x288 with 2 Axes>"
            ]
          },
          "metadata": {
            "tags": [],
            "needs_background": "light"
          }
        }
      ]
    },
    {
      "cell_type": "code",
      "metadata": {
        "id": "oUo1t2KI72zk",
        "colab_type": "code",
        "outputId": "d255ce4b-637e-448d-97f5-144488c4bbb7",
        "colab": {
          "base_uri": "https://localhost:8080/",
          "height": 281
        }
      },
      "source": [
        "confusion_matrix(model, testloader, size=3, name  = \"Test3classes\", index = ['healthy', 'rust', 'scab'])"
      ],
      "execution_count": 20,
      "outputs": [
        {
          "output_type": "display_data",
          "data": {
            "image/png": "[encoded data removed]",
            "text/plain": [
              "<Figure size 432x288 with 2 Axes>"
            ]
          },
          "metadata": {
            "tags": [],
            "needs_background": "light"
          }
        }
      ]
    },
    {
      "cell_type": "code",
      "metadata": {
        "id": "aCvUM2Wxlsgg",
        "colab_type": "code",
        "colab": {}
      },
      "source": [
        "torch.save(model, \"model3classes\")"
      ],
      "execution_count": 0,
      "outputs": []
    },
    {
      "cell_type": "markdown",
      "metadata": {
        "id": "zXxr1DLRhIZr",
        "colab_type": "text"
      },
      "source": [
        "## New layer ..."
      ]
    },
    {
      "cell_type": "code",
      "metadata": {
        "id": "LExIbreOhKCm",
        "colab_type": "code",
        "colab": {}
      },
      "source": [
        "\n",
        "lin = model.fc\n",
        "\n",
        "alpha1 = 0.75\n",
        "alpha2 = 0.75\n",
        "\n",
        "new_lin = nn.Sequential(\n",
        "    lin,\n",
        "    nn.ReLU(),\n",
        "    nn.Linear(3, 4),\n",
        ")\n",
        "\n",
        "model.fc = new_lin"
      ],
      "execution_count": 0,
      "outputs": []
    },
    {
      "cell_type": "code",
      "metadata": {
        "id": "YQEzw9GobbOk",
        "colab_type": "code",
        "colab": {
          "base_uri": "https://localhost:8080/",
          "height": 191
        },
        "outputId": "347f8e83-f644-4051-d26f-b5a4eae7533b"
      },
      "source": [
        "# to initialize the new layers weights\n",
        "rank = 3\n",
        "def init_last(model):\n",
        "  model.eval()\n",
        "  count = 0\n",
        "  for param in model.fc : \n",
        "    count +=1\n",
        "    if(count == rank):\n",
        "      with torch.no_grad():\n",
        "        alpha1 = 1.01\n",
        "        alpha2 = 1.01\n",
        "        alpha = 1/np.sqrt(3)\n",
        "        for i in range(4):\n",
        "          # giving weights could work for the last layer\n",
        "          for j in range(3):\n",
        "            param.weight[i][j] = 0\n",
        "        param.weight[0][0] = alpha\n",
        "        param.weight[2][1] = alpha\n",
        "        param.weight[3][2] = alpha\n",
        "        param.weight[1][2] = alpha1*alpha\n",
        "        param.weight[1][1] = alpha2*alpha\n",
        "        param.bias[0] = 0\n",
        "        param.bias[1] = 0\n",
        "        param.bias[2] = 0\n",
        "        param.bias[3] = 0\n",
        "\n",
        "        print(param.weight)\n",
        "  model.train()\n",
        "\n",
        "def print_last(model):\n",
        "  model.eval()\n",
        "  count = 0\n",
        "  for param in model.fc : \n",
        "    count +=1\n",
        "    if(count == rank):\n",
        "      print(param.weight)\n",
        "  model.train()\n",
        "\n",
        "init_last(model)\n",
        "print_last(model)\n",
        "loss_train, acc_train,loss_test, acc_test = [],[],[],[]"
      ],
      "execution_count": 23,
      "outputs": [
        {
          "output_type": "stream",
          "text": [
            "Parameter containing:\n",
            "tensor([[0.5774, 0.0000, 0.0000],\n",
            "        [0.0000, 0.5831, 0.5831],\n",
            "        [0.0000, 0.5774, 0.0000],\n",
            "        [0.0000, 0.0000, 0.5774]], requires_grad=True)\n",
            "Parameter containing:\n",
            "tensor([[0.5774, 0.0000, 0.0000],\n",
            "        [0.0000, 0.5831, 0.5831],\n",
            "        [0.0000, 0.5774, 0.0000],\n",
            "        [0.0000, 0.0000, 0.5774]], requires_grad=True)\n"
          ],
          "name": "stdout"
        }
      ]
    },
    {
      "cell_type": "code",
      "metadata": {
        "colab_type": "code",
        "id": "3gA0obIhiyKZ",
        "colab": {}
      },
      "source": [
        "k = 0\n",
        "for child in model.children() :\n",
        "  k+=1\n",
        "number_of_blocs = k"
      ],
      "execution_count": 0,
      "outputs": []
    },
    {
      "cell_type": "code",
      "metadata": {
        "colab_type": "code",
        "id": "8__fwyZdiyK3",
        "colab": {}
      },
      "source": [
        "k = 0\n",
        "for param in model.parameters():\n",
        "  k+=1\n",
        "\n",
        "number_of_layers = k"
      ],
      "execution_count": 0,
      "outputs": []
    },
    {
      "cell_type": "code",
      "metadata": {
        "colab_type": "code",
        "id": "RVoxxv75iyLD",
        "outputId": "5638d9b4-78f3-4958-e40c-b01f7a3258ae",
        "colab": {
          "base_uri": "https://localhost:8080/",
          "height": 34
        }
      },
      "source": [
        "print(\" There are \" + str(number_of_blocs) + \" blocs in this net for a total of \" + str(number_of_layers) + \" layers.\")"
      ],
      "execution_count": 26,
      "outputs": [
        {
          "output_type": "stream",
          "text": [
            " There are 10 blocs in this net for a total of 165 layers.\n"
          ],
          "name": "stdout"
        }
      ]
    },
    {
      "cell_type": "code",
      "metadata": {
        "id": "PboqFcJcigAx",
        "colab_type": "code",
        "outputId": "b238cb01-8fc6-4bb0-ee6a-37fae6df30f9",
        "colab": {
          "base_uri": "https://localhost:8080/",
          "height": 521
        }
      },
      "source": [
        "# then we freeze the layers before the last one \n",
        "k = 0\n",
        "freeze_layers = 10\n",
        "freeze_param = 1 # 2 to freeze everyting except the lass layer 3-4,  1 to freeze the first layer of the classifier - 0 to unfreeze everything\n",
        "for child in model.children():\n",
        "  k += 1\n",
        "  if(k < freeze_layers ):\n",
        "    for param in child.parameters():\n",
        "      param.requires_grad = False\n",
        "  else :\n",
        "    count = 0\n",
        "    print(child)\n",
        "    for param in child.parameters():\n",
        "      if(count == 2):\n",
        "        param.requires_grad = True\n",
        "      if(count > freeze_param):\n",
        "        param.requires_grad = True\n",
        "        print(param)\n",
        "        print(\"was not freezed.\")\n",
        "      else:\n",
        "        param.requires_grad = False\n",
        "      count+=1"
      ],
      "execution_count": 45,
      "outputs": [
        {
          "output_type": "stream",
          "text": [
            "Sequential(\n",
            "  (0): Sequential(\n",
            "    (0): Linear(in_features=2048, out_features=1000, bias=True)\n",
            "    (1): ReLU()\n",
            "    (2): Dropout(p=0.5, inplace=False)\n",
            "    (3): Linear(in_features=1000, out_features=3, bias=True)\n",
            "  )\n",
            "  (1): ReLU()\n",
            "  (2): Linear(in_features=3, out_features=4, bias=True)\n",
            ")\n",
            "Parameter containing:\n",
            "tensor([[-0.0147, -0.0104, -0.0201,  ...,  0.0033, -0.0041, -0.0208],\n",
            "        [-0.0248,  0.0251,  0.0030,  ...,  0.0245, -0.0124,  0.0061],\n",
            "        [-0.0249,  0.0046, -0.0005,  ...,  0.0146,  0.0272,  0.0180]],\n",
            "       device='cuda:0', requires_grad=True)\n",
            "was not freezed.\n",
            "Parameter containing:\n",
            "tensor([-0.0032,  0.0408, -0.0077], device='cuda:0', requires_grad=True)\n",
            "was not freezed.\n",
            "Parameter containing:\n",
            "tensor([[ 0.5820, -0.0231, -0.0209],\n",
            "        [ 0.0132,  0.5701,  0.5827],\n",
            "        [-0.0220,  0.5967, -0.0227],\n",
            "        [-0.0227, -0.0240,  0.5893]], device='cuda:0', requires_grad=True)\n",
            "was not freezed.\n",
            "Parameter containing:\n",
            "tensor([-0.0128,  0.0146,  0.0020, -0.0167], device='cuda:0',\n",
            "       requires_grad=True)\n",
            "was not freezed.\n"
          ],
          "name": "stdout"
        }
      ]
    },
    {
      "cell_type": "code",
      "metadata": {
        "id": "fbSp3AfXozZo",
        "colab_type": "code",
        "colab": {}
      },
      "source": [
        "model = model.cuda()"
      ],
      "execution_count": 0,
      "outputs": []
    },
    {
      "cell_type": "markdown",
      "metadata": {
        "id": "RZUdtfV5PJXz",
        "colab_type": "text"
      },
      "source": [
        "L'apprentissage réalisée en dessous a été fait pour uniquement la couche 3->4 (la dernière) de dégelé. \n",
        "Elle devrait être suivie lorsque la précision stagne d'un dégelage de la couche précédente, et lorsque celle-ci stagne encore, un dégelage de tout le classifieur. Attention cependant au sur-apprentissagge... (cf. plus haut pour dégeler ces couches).\n",
        "\n",
        "L'entrainement de ce modèle nécessite une certaine finesse et une progression pas à pas sous risque de tomber très rapidement dans l'ignorance complète du la classe 1.\n"
      ]
    },
    {
      "cell_type": "code",
      "metadata": {
        "colab_type": "code",
        "id": "yCJyW6Bt03R7",
        "outputId": "7894011e-6fa4-4694-8c97-39f10b415417",
        "colab": {
          "base_uri": "https://localhost:8080/",
          "height": 503
        }
      },
      "source": [
        "lr = 1e-5 # shound not be too large, otherwise there is a risk of ignoring the class \"multiple diseases\"\n",
        "\n",
        "class_weights = torch.FloatTensor([1, 8, 1, 1]).cuda() # 8 : to be sure that we are not going to ignore it\n",
        "\n",
        "criterion = nn.CrossEntropyLoss(weight=class_weights)\n",
        "opt = torch.optim.Adam(model.parameters(),lr=lr,betas=(0.9, 0.999),eps=1e-8)\n",
        "\n",
        "batch_size = 64\n",
        "epochs = 3\n",
        "testloader = torch.utils.data.DataLoader(testing_set, 1, shuffle=False)\n",
        "trainloader = torch.utils.data.DataLoader(training_set, batch_size, shuffle=True)\n",
        "loss_train_, acc_train_,loss_test_, acc_test_, min_loss, best_state= train(model, opt, trainloader, testloader, criterion, n_epoch = epochs, train_acc_period = 10000,\n",
        "          test_acc_period = 1)\n",
        "\n"
      ],
      "execution_count": 54,
      "outputs": [
        {
          "output_type": "stream",
          "text": [
            "\n",
            "\n",
            "  0%|          | 0/3 [00:00<?, ?it/s]\u001b[A\u001b[A"
          ],
          "name": "stderr"
        },
        {
          "output_type": "stream",
          "text": [
            "Testing set :\n",
            "[1] loss: 0.838\n",
            "[1] acc: 69.834\n",
            "Training set :\n"
          ],
          "name": "stdout"
        },
        {
          "output_type": "stream",
          "text": [
            "\n",
            "\n",
            " 33%|███▎      | 1/3 [00:24<00:48, 24.10s/it]\u001b[A\u001b[A"
          ],
          "name": "stderr"
        },
        {
          "output_type": "stream",
          "text": [
            "[1] loss: 0.013\n",
            "[1] acc: 72.881\n",
            "Testing set :\n",
            "[2] loss: 0.850\n",
            "[2] acc: 68.884\n",
            "Training set :\n"
          ],
          "name": "stdout"
        },
        {
          "output_type": "stream",
          "text": [
            "\n",
            "\n",
            " 67%|██████▋   | 2/3 [00:48<00:24, 24.09s/it]\u001b[A\u001b[A"
          ],
          "name": "stderr"
        },
        {
          "output_type": "stream",
          "text": [
            "[2] loss: 0.013\n",
            "[2] acc: 73.294\n",
            "Testing set :\n",
            "[3] loss: 0.847\n",
            "[3] acc: 69.121\n",
            "Training set :\n"
          ],
          "name": "stdout"
        },
        {
          "output_type": "stream",
          "text": [
            "\n",
            "\n",
            "100%|██████████| 3/3 [01:12<00:00, 24.08s/it]"
          ],
          "name": "stderr"
        },
        {
          "output_type": "stream",
          "text": [
            "[3] loss: 0.013\n",
            "[3] acc: 73.001\n",
            "Finished Training\n"
          ],
          "name": "stdout"
        },
        {
          "output_type": "stream",
          "text": [
            "\n"
          ],
          "name": "stderr"
        }
      ]
    },
    {
      "cell_type": "code",
      "metadata": {
        "id": "LleQBYO9op4u",
        "colab_type": "code",
        "colab": {
          "base_uri": "https://localhost:8080/",
          "height": 281
        },
        "outputId": "303f6fac-f1f4-44a6-eb79-9f2dd80a3a7c"
      },
      "source": [
        "confusion_matrix(model, trainloader, name  = \"Train\")\n"
      ],
      "execution_count": 55,
      "outputs": [
        {
          "output_type": "display_data",
          "data": {
            "image/png": "[encoded data removed]",
            "text/plain": [
              "<Figure size 432x288 with 2 Axes>"
            ]
          },
          "metadata": {
            "tags": [],
            "needs_background": "light"
          }
        }
      ]
    },
    {
      "cell_type": "code",
      "metadata": {
        "id": "9Va7iewgptNm",
        "colab_type": "code",
        "colab": {
          "base_uri": "https://localhost:8080/",
          "height": 281
        },
        "outputId": "bbb4d056-1b34-47fa-e080-759cb97d99fc"
      },
      "source": [
        "confusion_matrix(model, testloader)"
      ],
      "execution_count": 56,
      "outputs": [
        {
          "output_type": "display_data",
          "data": {
            "image/png": "[encoded data removed]",
            "text/plain": [
              "<Figure size 432x288 with 2 Axes>"
            ]
          },
          "metadata": {
            "tags": [],
            "needs_background": "light"
          }
        }
      ]
    },
    {
      "cell_type": "markdown",
      "metadata": {
        "id": "FYjXrPFdiI50",
        "colab_type": "text"
      },
      "source": [
        ""
      ]
    }
  ]
}